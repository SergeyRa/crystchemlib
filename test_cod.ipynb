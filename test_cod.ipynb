{
 "cells": [
  {
   "cell_type": "code",
   "execution_count": 1,
   "metadata": {},
   "outputs": [],
   "source": [
    "import core\n",
    "import matplotlib.pyplot as plt\n",
    "import numpy as np\n",
    "import os"
   ]
  },
  {
   "cell_type": "code",
   "execution_count": 2,
   "metadata": {
    "scrolled": true
   },
   "outputs": [
    {
     "name": "stdout",
     "output_type": "stream",
     "text": [
      "1245 files found\n"
     ]
    }
   ],
   "source": [
    "dir = './test_datasets/COD/'\n",
    "cifs = [i for i in os.listdir(dir) if i.endswith('.cif')]\n",
    "N = len(cifs)\n",
    "print(f'{N} files found')"
   ]
  },
  {
   "cell_type": "code",
   "execution_count": 8,
   "metadata": {},
   "outputs": [
    {
     "name": "stdout",
     "output_type": "stream",
     "text": [
      "reading 1025 file of 1245\n",
      "1025 structures read\n"
     ]
    }
   ],
   "source": [
    "structures = []\n",
    "for i, c in enumerate(cifs):\n",
    "    print(f'reading {i+1} file of {N}\\r', end='')\n",
    "    with open(dir+c) as f:\n",
    "        parsed = core.parsecif(f)\n",
    "        for j in parsed['data']:\n",
    "            struct = core.readstruct(j)\n",
    "            if struct is not None:\n",
    "                occ = np.array([j.occ for j in s.sites])\n",
    "                if np.all(occ == 1.):\n",
    "                    structures.append(struct)\n",
    "M = len(structures)\n",
    "print(f'\\n{M} structures read')"
   ]
  },
  {
   "cell_type": "code",
   "execution_count": null,
   "metadata": {},
   "outputs": [],
   "source": []
  }
 ],
 "metadata": {
  "kernelspec": {
   "display_name": "Python 3 (ipykernel)",
   "language": "python",
   "name": "python3"
  },
  "language_info": {
   "codemirror_mode": {
    "name": "ipython",
    "version": 3
   },
   "file_extension": ".py",
   "mimetype": "text/x-python",
   "name": "python",
   "nbconvert_exporter": "python",
   "pygments_lexer": "ipython3",
   "version": "3.12.7"
  }
 },
 "nbformat": 4,
 "nbformat_minor": 4
}
